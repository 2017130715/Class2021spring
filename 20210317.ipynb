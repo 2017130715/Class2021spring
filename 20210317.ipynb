{
  "nbformat": 4,
  "nbformat_minor": 0,
  "metadata": {
    "colab": {
      "name": "20210317.ipynb",
      "provenance": [],
      "authorship_tag": "ABX9TyPi4YIHLoiaKtNOYlFGxsDP",
      "include_colab_link": true
    },
    "kernelspec": {
      "name": "python3",
      "display_name": "Python 3"
    }
  },
  "cells": [
    {
      "cell_type": "markdown",
      "metadata": {
        "id": "view-in-github",
        "colab_type": "text"
      },
      "source": [
        "<a href=\"https://colab.research.google.com/github/2017130715/class2021Spring/blob/main/20210317.ipynb\" target=\"_parent\"><img src=\"https://colab.research.google.com/assets/colab-badge.svg\" alt=\"Open In Colab\"/></a>"
      ]
    },
    {
      "cell_type": "code",
      "metadata": {
        "colab": {
          "base_uri": "https://localhost:8080/"
        },
        "id": "rS9Xu1E-uMxq",
        "outputId": "453ff4c7-ab85-4a22-f62e-4d17ba204314"
      },
      "source": [
        "for i in range(1, 6, 3):\r\n",
        "  for j in range(2, 7):\r\n",
        "    if j >=4:\r\n",
        "      print(i*j)"
      ],
      "execution_count": 12,
      "outputs": [
        {
          "output_type": "stream",
          "text": [
            "4\n",
            "5\n",
            "6\n",
            "16\n",
            "20\n",
            "24\n"
          ],
          "name": "stdout"
        }
      ]
    },
    {
      "cell_type": "code",
      "metadata": {
        "colab": {
          "base_uri": "https://localhost:8080/"
        },
        "id": "jUqGAFUHvgaQ",
        "outputId": "16f89c86-2e85-4b2c-bd48-697fb028614a"
      },
      "source": [
        "a = range(1, 100, 10)\r\n",
        "b = [i for i in a if i>10]\r\n",
        "b"
      ],
      "execution_count": 9,
      "outputs": [
        {
          "output_type": "execute_result",
          "data": {
            "text/plain": [
              "[11, 21, 31, 41, 51, 61, 71, 81, 91]"
            ]
          },
          "metadata": {
            "tags": []
          },
          "execution_count": 9
        }
      ]
    }
  ]
}