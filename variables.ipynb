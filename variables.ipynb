{
  "nbformat": 4,
  "nbformat_minor": 0,
  "metadata": {
    "colab": {
      "name": "variables.ipynb",
      "provenance": [],
      "authorship_tag": "ABX9TyMcHe+INpfCoxyR6FoeQYps",
      "include_colab_link": true
    },
    "kernelspec": {
      "name": "python3",
      "display_name": "Python 3"
    }
  },
  "cells": [
    {
      "cell_type": "markdown",
      "metadata": {
        "id": "view-in-github",
        "colab_type": "text"
      },
      "source": [
        "<a href=\"https://colab.research.google.com/github/2017130715/class2021Spring/blob/main/variables.ipynb\" target=\"_parent\"><img src=\"https://colab.research.google.com/assets/colab-badge.svg\" alt=\"Open In Colab\"/></a>"
      ]
    },
    {
      "cell_type": "code",
      "metadata": {
        "colab": {
          "base_uri": "https://localhost:8080/"
        },
        "id": "RW4jsi-WIURT",
        "outputId": "719075ba-6594-443a-de7f-d2ef03bac6f8"
      },
      "source": [
        "a = 1; print(type(a))"
      ],
      "execution_count": 1,
      "outputs": [
        {
          "output_type": "stream",
          "text": [
            "<class 'int'>\n"
          ],
          "name": "stdout"
        }
      ]
    },
    {
      "cell_type": "code",
      "metadata": {
        "colab": {
          "base_uri": "https://localhost:8080/"
        },
        "id": "ookpxJ4YIwK-",
        "outputId": "e1c869ff-7ca1-4304-f0ec-0e69885d152b"
      },
      "source": [
        "a = 1; a = float(a); print(type(a))"
      ],
      "execution_count": 2,
      "outputs": [
        {
          "output_type": "stream",
          "text": [
            "<class 'float'>\n"
          ],
          "name": "stdout"
        }
      ]
    },
    {
      "cell_type": "code",
      "metadata": {
        "colab": {
          "base_uri": "https://localhost:8080/"
        },
        "id": "ReQCNQj5IwNB",
        "outputId": "da3cd9e5-40cd-482f-cc5b-4bdd8aa9274b"
      },
      "source": [
        "a = 1.2; a = int(a); print(type(a))"
      ],
      "execution_count": 4,
      "outputs": [
        {
          "output_type": "stream",
          "text": [
            "<class 'int'>\n"
          ],
          "name": "stdout"
        }
      ]
    },
    {
      "cell_type": "code",
      "metadata": {
        "colab": {
          "base_uri": "https://localhost:8080/"
        },
        "id": "Lvq6ruRPJJQg",
        "outputId": "bd4441e6-fbf5-41c0-b088-ad7c081354f4"
      },
      "source": [
        "a = '123'; print(type(a)); print(a[1])"
      ],
      "execution_count": 5,
      "outputs": [
        {
          "output_type": "stream",
          "text": [
            "<class 'str'>\n",
            "2\n"
          ],
          "name": "stdout"
        }
      ]
    },
    {
      "cell_type": "code",
      "metadata": {
        "colab": {
          "base_uri": "https://localhost:8080/"
        },
        "id": "8V2OYZHPJJSt",
        "outputId": "2683eed6-088b-4b78-f37d-090e368d91a0"
      },
      "source": [
        "a = '123'; a = list(a); print(type(a)); print(a); print(a[2])"
      ],
      "execution_count": 6,
      "outputs": [
        {
          "output_type": "stream",
          "text": [
            "<class 'list'>\n",
            "['1', '2', '3']\n",
            "3\n"
          ],
          "name": "stdout"
        }
      ]
    },
    {
      "cell_type": "code",
      "metadata": {
        "colab": {
          "base_uri": "https://localhost:8080/"
        },
        "id": "xl5E_iNVL9Fb",
        "outputId": "0c467599-b3dd-4ac2-ef9f-54c2fc595f3b"
      },
      "source": [
        "a = [1, '2', [3, '4']]; print(type(a)); print(a[0]); print(a[1]); print(a[2])"
      ],
      "execution_count": 7,
      "outputs": [
        {
          "output_type": "stream",
          "text": [
            "<class 'list'>\n",
            "1\n",
            "2\n",
            "[3, '4']\n"
          ],
          "name": "stdout"
        }
      ]
    },
    {
      "cell_type": "code",
      "metadata": {
        "colab": {
          "base_uri": "https://localhost:8080/"
        },
        "id": "1aLoQ_enMdOY",
        "outputId": "ebc95a7c-13a9-4549-a8e4-e9365583c18c"
      },
      "source": [
        "a = (1, '2', [3, '4']); print(type(a)); print(a[0]); print(a[1]); print(a[2])"
      ],
      "execution_count": 8,
      "outputs": [
        {
          "output_type": "stream",
          "text": [
            "<class 'tuple'>\n",
            "1\n",
            "2\n",
            "[3, '4']\n"
          ],
          "name": "stdout"
        }
      ]
    },
    {
      "cell_type": "code",
      "metadata": {
        "colab": {
          "base_uri": "https://localhost:8080/"
        },
        "id": "dMmpCFsbMgDa",
        "outputId": "f2b404de-7f10-4884-b6ca-bdd1deb49318"
      },
      "source": [
        "a = {\"a\": \"apple\", \"b\": \"orange\", \"c\": 2014}\r\n",
        "print(type(a))\r\n",
        "print(a[\"a\"])"
      ],
      "execution_count": 9,
      "outputs": [
        {
          "output_type": "stream",
          "text": [
            "<class 'dict'>\n",
            "apple\n"
          ],
          "name": "stdout"
        }
      ]
    },
    {
      "cell_type": "code",
      "metadata": {
        "colab": {
          "base_uri": "https://localhost:8080/"
        },
        "id": "JpoUPOavMxMx",
        "outputId": "3af8193b-2711-4b1d-a202-d64ca8ebf75f"
      },
      "source": [
        "a=[(1,2,3), (3,8,0)]\r\n",
        "print(type(a))\r\n",
        "a"
      ],
      "execution_count": 10,
      "outputs": [
        {
          "output_type": "stream",
          "text": [
            "<class 'list'>\n"
          ],
          "name": "stdout"
        },
        {
          "output_type": "execute_result",
          "data": {
            "text/plain": [
              "[(1, 2, 3), (3, 8, 0)]"
            ]
          },
          "metadata": {
            "tags": []
          },
          "execution_count": 10
        }
      ]
    }
  ]
}